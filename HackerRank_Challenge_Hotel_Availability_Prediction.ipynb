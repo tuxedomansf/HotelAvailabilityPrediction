{
  "nbformat": 4,
  "nbformat_minor": 0,
  "metadata": {
    "colab": {
      "provenance": [],
      "authorship_tag": "ABX9TyM0s8lWgTGSxu2Jsdqt+K5w",
      "include_colab_link": true
    },
    "kernelspec": {
      "name": "python3",
      "display_name": "Python 3"
    },
    "language_info": {
      "name": "python"
    }
  },
  "cells": [
    {
      "cell_type": "markdown",
      "metadata": {
        "id": "view-in-github",
        "colab_type": "text"
      },
      "source": [
        "<a href=\"https://colab.research.google.com/github/tuxedomansf/HotelAvailabilityPrediction/blob/main/HackerRank_Challenge_Hotel_Availability_Prediction.ipynb\" target=\"_parent\"><img src=\"https://colab.research.google.com/assets/colab-badge.svg\" alt=\"Open In Colab\"/></a>"
      ]
    },
    {
      "cell_type": "code",
      "execution_count": null,
      "metadata": {
        "id": "l_bvcyX9_5Gt",
        "colab": {
          "base_uri": "https://localhost:8080/"
        },
        "outputId": "8869a621-7c24-47e6-f1ba-83f850a1787c"
      },
      "outputs": [
        {
          "output_type": "stream",
          "name": "stdout",
          "text": [
            "Loading datasets...\n",
            "Train data shape: (2870, 12)\n",
            "Test data shape: (718, 11)\n"
          ]
        }
      ],
      "source": [
        "# Hotel Yearly Availability Prediction - Travel Express\n",
        "# Data Science Solution for Predicting Hotel Booking Availability\n",
        "\n",
        "import pandas as pd\n",
        "import numpy as np\n",
        "import matplotlib.pyplot as plt\n",
        "import seaborn as sns\n",
        "from sklearn.model_selection import train_test_split, cross_val_score\n",
        "from sklearn.ensemble import RandomForestClassifier, GradientBoostingClassifier\n",
        "from sklearn.linear_model import LogisticRegression\n",
        "from sklearn.preprocessing import LabelEncoder, StandardScaler\n",
        "from sklearn.metrics import accuracy_score, classification_report, confusion_matrix\n",
        "import warnings\n",
        "warnings.filterwarnings('ignore')\n",
        "\n",
        "# Set style for plots\n",
        "plt.style.use('seaborn-v0_8')\n",
        "sns.set_palette(\"husl\")\n",
        "\n",
        "# Load the data\n",
        "print(\"Loading datasets...\")\n",
        "# Then access files from your Drive\n",
        "train_df = pd.read_csv('/content/sample_data/hotel_train.csv')\n",
        "test_df = pd.read_csv('/content/sample_data/hotel_test.csv')\n",
        "\n",
        "print(f\"Train data shape: {train_df.shape}\")\n",
        "print(f\"Test data shape: {test_df.shape}\")"
      ]
    },
    {
      "cell_type": "code",
      "source": [
        "# ==============================================================================\n",
        "# 1. EXPLORATORY DATA ANALYSIS\n",
        "# ==============================================================================\n",
        "\n",
        "print(\"\\n\" + \"=\"*50)\n",
        "print(\"EXPLORATORY DATA ANALYSIS\")\n",
        "print(\"=\"*50)\n",
        "\n",
        "# Basic info about the dataset\n",
        "print(\"\\nDataset Info:\")\n",
        "print(train_df.info())\n",
        "\n",
        "print(\"\\nFirst few rows:\")\n",
        "print(train_df.head())\n",
        "\n",
        "print(\"\\nTarget variable distribution:\")\n",
        "print(train_df['yearly_availability'].value_counts())\n",
        "print(f\"Target balance: {train_df['yearly_availability'].mean():.2%} are available yearly\")\n",
        "\n",
        "# Check for missing values\n",
        "print(\"\\nMissing values:\")\n",
        "print(train_df.isnull().sum())"
      ],
      "metadata": {
        "colab": {
          "base_uri": "https://localhost:8080/"
        },
        "id": "EAuLW9lMAQTR",
        "outputId": "2af5b1bd-6d51-44b5-a871-e6af5500a6ce"
      },
      "execution_count": null,
      "outputs": [
        {
          "output_type": "stream",
          "name": "stdout",
          "text": [
            "\n",
            "==================================================\n",
            "EXPLORATORY DATA ANALYSIS\n",
            "==================================================\n",
            "\n",
            "Dataset Info:\n",
            "<class 'pandas.core.frame.DataFrame'>\n",
            "RangeIndex: 2870 entries, 0 to 2869\n",
            "Data columns (total 12 columns):\n",
            " #   Column               Non-Null Count  Dtype  \n",
            "---  ------               --------------  -----  \n",
            " 0   id                   2870 non-null   int64  \n",
            " 1   region               2870 non-null   object \n",
            " 2   latitude             2870 non-null   float64\n",
            " 3   longitude            2870 non-null   float64\n",
            " 4   accommodation_type   2870 non-null   object \n",
            " 5   cost                 2870 non-null   int64  \n",
            " 6   minimum_nights       2870 non-null   int64  \n",
            " 7   number_of_reviews    2870 non-null   int64  \n",
            " 8   reviews_per_month    2194 non-null   float64\n",
            " 9   owner_id             2870 non-null   int64  \n",
            " 10  owned_hotels         2870 non-null   int64  \n",
            " 11  yearly_availability  2870 non-null   int64  \n",
            "dtypes: float64(3), int64(7), object(2)\n",
            "memory usage: 269.2+ KB\n",
            "None\n",
            "\n",
            "First few rows:\n",
            "      id     region  latitude  longitude accommodation_type  cost  \\\n",
            "0  13232  Manhattan  40.71854  -74.00439    Entire home/apt   170   \n",
            "1    246   Brooklyn  40.64446  -73.95030    Entire home/apt    65   \n",
            "2  19091     Queens  40.78573  -73.81062       Private room    85   \n",
            "3  34305  Manhattan  40.73863  -73.98002       Private room   210   \n",
            "4    444  Manhattan  40.82426  -73.94630        Shared room    75   \n",
            "\n",
            "   minimum_nights  number_of_reviews  reviews_per_month   owner_id  \\\n",
            "0               5                  7               0.56     929983   \n",
            "1               3                238               2.30     281764   \n",
            "2               1                  0                NaN   19923341   \n",
            "3              30                  0                NaN  200380610   \n",
            "4               3                 38               0.42     745069   \n",
            "\n",
            "   owned_hotels  yearly_availability  \n",
            "0             1                    0  \n",
            "1             1                    0  \n",
            "2             1                    1  \n",
            "3            65                    1  \n",
            "4             3                    1  \n",
            "\n",
            "Target variable distribution:\n",
            "yearly_availability\n",
            "0    1439\n",
            "1    1431\n",
            "Name: count, dtype: int64\n",
            "Target balance: 49.86% are available yearly\n",
            "\n",
            "Missing values:\n",
            "id                       0\n",
            "region                   0\n",
            "latitude                 0\n",
            "longitude                0\n",
            "accommodation_type       0\n",
            "cost                     0\n",
            "minimum_nights           0\n",
            "number_of_reviews        0\n",
            "reviews_per_month      676\n",
            "owner_id                 0\n",
            "owned_hotels             0\n",
            "yearly_availability      0\n",
            "dtype: int64\n"
          ]
        }
      ]
    },
    {
      "cell_type": "code",
      "source": [
        "# ==============================================================================\n",
        "# 2. DATA CLEANING AND BUG FIXES\n",
        "# ==============================================================================\n",
        "\n",
        "print(\"\\n\" + \"=\"*50)\n",
        "print(\"DATA CLEANING AND BUG FIXES\")\n",
        "print(\"=\"*50)\n",
        "\n",
        "def clean_data(df):\n",
        "    \"\"\"Clean and fix data bugs\"\"\"\n",
        "    df_clean = df.copy()\n",
        "\n",
        "    # Drop rows with missing values\n",
        "    initial_rows = len(df_clean)\n",
        "    df_clean = df_clean.dropna()\n",
        "    print(f\"Dropped {initial_rows - len(df_clean)} rows with missing values\")\n",
        "\n",
        "    # Fix region bugs (common typos and inconsistencies)\n",
        "    region_fixes = {\n",
        "        'Manhatan': 'Manhattan',\n",
        "        'Manhatttan': 'Manhattan',\n",
        "        'Bronx ': 'Bronx',\n",
        "        'brookly': 'Brooklyn',\n",
        "        'brooklyn': 'Brooklyn',\n",
        "        'Staten island': 'Staten Island',\n",
        "        'queens': 'Queens'\n",
        "    }\n",
        "\n",
        "    for old, new in region_fixes.items():\n",
        "        df_clean['region'] = df_clean['region'].str.replace(old, new, case=False)\n",
        "\n",
        "    # Fix accommodation_type bugs\n",
        "    accom_fixes = {\n",
        "        'Entire home/apt': 'Entire home/apartment',\n",
        "        'entire home/apt': 'Entire home/apartment',\n",
        "        'Private room': 'Private room',\n",
        "        'private room': 'Private room',\n",
        "        'Shared room': 'Shared room',\n",
        "        'shared room': 'Shared room'\n",
        "    }\n",
        "\n",
        "    for old, new in accom_fixes.items():\n",
        "        df_clean['accommodation_type'] = df_clean['accommodation_type'].str.replace(old, new, case=False)\n",
        "\n",
        "    return df_clean\n",
        "\n",
        "# Clean both datasets\n",
        "train_clean = clean_data(train_df)\n",
        "test_clean = clean_data(test_df)\n",
        "\n",
        "print(f\"\\nAfter cleaning - Train shape: {train_clean.shape}\")\n",
        "print(f\"After cleaning - Test shape: {test_clean.shape}\")\n",
        "\n",
        "print(\"\\nCleaned region values:\")\n",
        "print(train_clean['region'].value_counts())\n",
        "\n",
        "print(\"\\nCleaned accommodation_type values:\")\n",
        "print(train_clean['accommodation_type'].value_counts())"
      ],
      "metadata": {
        "colab": {
          "base_uri": "https://localhost:8080/"
        },
        "id": "Um2z04pgAUoa",
        "outputId": "b5d53219-94d8-4ad7-8dcb-0d3bf0c2cdfe"
      },
      "execution_count": null,
      "outputs": [
        {
          "output_type": "stream",
          "name": "stdout",
          "text": [
            "\n",
            "==================================================\n",
            "DATA CLEANING AND BUG FIXES\n",
            "==================================================\n",
            "Dropped 676 rows with missing values\n",
            "Dropped 173 rows with missing values\n",
            "\n",
            "After cleaning - Train shape: (2194, 12)\n",
            "After cleaning - Test shape: (545, 11)\n",
            "\n",
            "Cleaned region values:\n",
            "region\n",
            "Manhattan        959\n",
            "Brooklynn        889\n",
            "Queens           282\n",
            "Bronx             59\n",
            "Staten Island      5\n",
            "Name: count, dtype: int64\n",
            "\n",
            "Cleaned accommodation_type values:\n",
            "accommodation_type\n",
            "Entire home/apartment    954\n",
            "Private room             728\n",
            "Shared room              512\n",
            "Name: count, dtype: int64\n"
          ]
        }
      ]
    },
    {
      "cell_type": "code",
      "source": [
        "# ==============================================================================\n",
        "# 3. FEATURE ENGINEERING\n",
        "# ==============================================================================\n",
        "\n",
        "print(\"\\n\" + \"=\"*50)\n",
        "print(\"FEATURE ENGINEERING\")\n",
        "print(\"=\"*50)\n",
        "\n",
        "def engineer_features(df):\n",
        "    \"\"\"Create new features and encode categorical variables\"\"\"\n",
        "    df_eng = df.copy()\n",
        "\n",
        "    # New features related to reviews (time-series related)\n",
        "    df_eng['reviews_density'] = df_eng['number_of_reviews'] / (df_eng['minimum_nights'] + 1)\n",
        "    df_eng['monthly_review_intensity'] = df_eng['reviews_per_month'] * 12  # Annualized\n",
        "    df_eng['cost_per_night_ratio'] = df_eng['cost'] / (df_eng['minimum_nights'] + 1)\n",
        "    df_eng['hotels_per_owner'] = df_eng['owned_hotels']\n",
        "\n",
        "    # Geographic features\n",
        "    df_eng['lat_long_interaction'] = df_eng['latitude'] * df_eng['longitude']\n",
        "    df_eng['distance_from_center'] = np.sqrt((df_eng['latitude'] - df_eng['latitude'].mean())**2 +\n",
        "                                           (df_eng['longitude'] - df_eng['longitude'].mean())**2)\n",
        "\n",
        "    # Business logic features\n",
        "    df_eng['high_cost'] = (df_eng['cost'] > df_eng['cost'].quantile(0.75)).astype(int)\n",
        "    df_eng['high_reviews'] = (df_eng['number_of_reviews'] > df_eng['number_of_reviews'].quantile(0.75)).astype(int)\n",
        "    df_eng['premium_property'] = ((df_eng['cost'] > df_eng['cost'].quantile(0.8)) &\n",
        "                                 (df_eng['number_of_reviews'] > df_eng['number_of_reviews'].quantile(0.6))).astype(int)\n",
        "\n",
        "    return df_eng\n",
        "\n",
        "# Apply feature engineering\n",
        "train_eng = engineer_features(train_clean)\n",
        "test_eng = engineer_features(test_clean)\n",
        "\n",
        "print(\"New features created:\")\n",
        "new_features = ['reviews_density', 'monthly_review_intensity', 'cost_per_night_ratio',\n",
        "               'distance_from_center', 'high_cost', 'high_reviews', 'premium_property']\n",
        "print(new_features)"
      ],
      "metadata": {
        "colab": {
          "base_uri": "https://localhost:8080/"
        },
        "id": "Y9uQRP_xAZ7X",
        "outputId": "baee3127-642b-450e-9fb1-9a69177b55e0"
      },
      "execution_count": null,
      "outputs": [
        {
          "output_type": "stream",
          "name": "stdout",
          "text": [
            "\n",
            "==================================================\n",
            "FEATURE ENGINEERING\n",
            "==================================================\n",
            "New features created:\n",
            "['reviews_density', 'monthly_review_intensity', 'cost_per_night_ratio', 'distance_from_center', 'high_cost', 'high_reviews', 'premium_property']\n"
          ]
        }
      ]
    },
    {
      "cell_type": "code",
      "source": [
        "# ==============================================================================\n",
        "# 4. CATEGORICAL ENCODING\n",
        "# ==============================================================================\n",
        "\n",
        "print(\"\\n\" + \"=\"*50)\n",
        "print(\"CATEGORICAL ENCODING\")\n",
        "print(\"=\"*50)\n",
        "\n",
        "# Encode categorical variables\n",
        "le_region = LabelEncoder()\n",
        "le_accom = LabelEncoder()\n",
        "\n",
        "# Fit on train and transform both\n",
        "train_eng['region_encoded'] = le_region.fit_transform(train_eng['region'])\n",
        "train_eng['accommodation_encoded'] = le_accom.fit_transform(train_eng['accommodation_type'])\n",
        "\n",
        "test_eng['region_encoded'] = le_region.transform(test_eng['region'])\n",
        "test_eng['accommodation_encoded'] = le_accom.transform(test_eng['accommodation_type'])\n",
        "\n",
        "print(\"Categorical encoding completed\")"
      ],
      "metadata": {
        "colab": {
          "base_uri": "https://localhost:8080/"
        },
        "id": "Ynzk58wwAj_Y",
        "outputId": "163c1c00-0943-40e0-9dbd-2523f5ef0605"
      },
      "execution_count": null,
      "outputs": [
        {
          "output_type": "stream",
          "name": "stdout",
          "text": [
            "\n",
            "==================================================\n",
            "CATEGORICAL ENCODING\n",
            "==================================================\n",
            "Categorical encoding completed\n"
          ]
        }
      ]
    },
    {
      "cell_type": "code",
      "source": [
        "# ==============================================================================\n",
        "# 5. FEATURE SELECTION AND IMPORTANCE\n",
        "# ==============================================================================\n",
        "\n",
        "# Prepare features for modeling\n",
        "feature_cols = ['latitude', 'longitude', 'cost', 'minimum_nights', 'number_of_reviews',\n",
        "               'reviews_per_month', 'owned_hotels', 'region_encoded', 'accommodation_encoded',\n",
        "               'reviews_density', 'monthly_review_intensity', 'cost_per_night_ratio',\n",
        "               'distance_from_center', 'high_cost', 'high_reviews', 'premium_property']\n",
        "\n",
        "X = train_eng[feature_cols]\n",
        "y = train_eng['yearly_availability']\n",
        "\n",
        "print(f\"\\nFeatures for modeling: {len(feature_cols)}\")\n",
        "print(f\"Feature matrix shape: {X.shape}\")"
      ],
      "metadata": {
        "colab": {
          "base_uri": "https://localhost:8080/"
        },
        "id": "HeIXVA9vApFC",
        "outputId": "3fd848ad-1120-4cc5-d0b9-871e83b203f8"
      },
      "execution_count": null,
      "outputs": [
        {
          "output_type": "stream",
          "name": "stdout",
          "text": [
            "\n",
            "Features for modeling: 16\n",
            "Feature matrix shape: (2194, 16)\n"
          ]
        }
      ]
    },
    {
      "cell_type": "code",
      "source": [
        "# ==============================================================================\n",
        "# 6. MODEL DEVELOPMENT AND EVALUATION\n",
        "# ==============================================================================\n",
        "\n",
        "print(\"\\n\" + \"=\"*50)\n",
        "print(\"MODEL DEVELOPMENT AND EVALUATION\")\n",
        "print(\"=\"*50)\n",
        "\n",
        "# Split the data\n",
        "X_train, X_val, y_train, y_val = train_test_split(X, y, test_size=0.2, random_state=42, stratify=y)\n",
        "\n",
        "# Initialize models\n",
        "models = {\n",
        "    'Random Forest': RandomForestClassifier(n_estimators=100, random_state=42, max_depth=10),\n",
        "    'Gradient Boosting': GradientBoostingClassifier(n_estimators=100, random_state=42, max_depth=6),\n",
        "    'Logistic Regression': LogisticRegression(random_state=42, max_iter=1000)\n",
        "}\n",
        "\n",
        "# Train and evaluate models\n",
        "model_results = {}\n",
        "trained_models = {}\n",
        "\n",
        "for name, model in models.items():\n",
        "    print(f\"\\nTraining {name}...\")\n",
        "\n",
        "    if name == 'Logistic Regression':\n",
        "        # Scale features for logistic regression\n",
        "        scaler = StandardScaler()\n",
        "        X_train_scaled = scaler.fit_transform(X_train)\n",
        "        X_val_scaled = scaler.transform(X_val)\n",
        "\n",
        "        model.fit(X_train_scaled, y_train)\n",
        "        y_pred = model.predict(X_val_scaled)\n",
        "        trained_models[name] = (model, scaler)\n",
        "    else:\n",
        "        model.fit(X_train, y_train)\n",
        "        y_pred = model.predict(X_val)\n",
        "        trained_models[name] = (model, None)\n",
        "\n",
        "    accuracy = accuracy_score(y_val, y_pred)\n",
        "    model_results[name] = accuracy\n",
        "\n",
        "    print(f\"{name} Accuracy: {accuracy:.4f}\")\n",
        "\n",
        "# Select best model\n",
        "best_model_name = max(model_results, key=model_results.get)\n",
        "best_model, best_scaler = trained_models[best_model_name]\n",
        "\n",
        "print(f\"\\nBest Model: {best_model_name} with accuracy: {model_results[best_model_name]:.4f}\")"
      ],
      "metadata": {
        "colab": {
          "base_uri": "https://localhost:8080/"
        },
        "id": "dehRSubTA0gG",
        "outputId": "a7f3a889-8a3a-498e-f6bb-2c04965e9635"
      },
      "execution_count": null,
      "outputs": [
        {
          "output_type": "stream",
          "name": "stdout",
          "text": [
            "\n",
            "==================================================\n",
            "MODEL DEVELOPMENT AND EVALUATION\n",
            "==================================================\n",
            "\n",
            "Training Random Forest...\n",
            "Random Forest Accuracy: 0.9134\n",
            "\n",
            "Training Gradient Boosting...\n",
            "Gradient Boosting Accuracy: 0.9021\n",
            "\n",
            "Training Logistic Regression...\n",
            "Logistic Regression Accuracy: 0.7540\n",
            "\n",
            "Best Model: Random Forest with accuracy: 0.9134\n"
          ]
        }
      ]
    },
    {
      "cell_type": "code",
      "source": [
        "# ==============================================================================\n",
        "# 7. FEATURE IMPORTANCE ANALYSIS\n",
        "# ==============================================================================\n",
        "\n",
        "print(\"\\n\" + \"=\"*50)\n",
        "print(\"FEATURE IMPORTANCE ANALYSIS\")\n",
        "print(\"=\"*50)\n",
        "\n",
        "# Get feature importance from best model\n",
        "if hasattr(best_model, 'feature_importances_'):\n",
        "    feature_importance = best_model.feature_importances_\n",
        "elif hasattr(best_model, 'coef_'):\n",
        "    feature_importance = np.abs(best_model.coef_[0])\n",
        "else:\n",
        "    feature_importance = np.ones(len(feature_cols))\n",
        "\n",
        "# Create feature importance dataframe\n",
        "importance_df = pd.DataFrame({\n",
        "    'feature': feature_cols,\n",
        "    'importance': feature_importance\n",
        "}).sort_values('importance', ascending=False)\n",
        "\n",
        "print(\"Top 10 Most Important Features:\")\n",
        "print(importance_df.head(10))"
      ],
      "metadata": {
        "colab": {
          "base_uri": "https://localhost:8080/"
        },
        "id": "O25wd6STA5bN",
        "outputId": "67f9e2f1-41bd-440c-e0d0-8a92443a8366"
      },
      "execution_count": null,
      "outputs": [
        {
          "output_type": "stream",
          "name": "stdout",
          "text": [
            "\n",
            "==================================================\n",
            "FEATURE IMPORTANCE ANALYSIS\n",
            "==================================================\n",
            "Top 10 Most Important Features:\n",
            "                     feature  importance\n",
            "8      accommodation_encoded    0.395736\n",
            "6               owned_hotels    0.136195\n",
            "10  monthly_review_intensity    0.059586\n",
            "5          reviews_per_month    0.059467\n",
            "3             minimum_nights    0.048930\n",
            "1                  longitude    0.045729\n",
            "11      cost_per_night_ratio    0.042495\n",
            "9            reviews_density    0.042317\n",
            "12      distance_from_center    0.041340\n",
            "4          number_of_reviews    0.040168\n"
          ]
        }
      ]
    },
    {
      "cell_type": "code",
      "source": [
        "# ==============================================================================\n",
        "# 8. VISUALIZATION OF TOP 20 FEATURES\n",
        "# ==============================================================================\n",
        "\n",
        "print(\"\\n\" + \"=\"*50)\n",
        "print(\"FEATURE IMPORTANCE VISUALIZATION\")\n",
        "print(\"=\"*50)\n",
        "\n",
        "# Plot top 20 features\n",
        "plt.figure(figsize=(12, 8))\n",
        "top_20_features = importance_df.head(20)\n",
        "plt.barh(range(len(top_20_features)), top_20_features['importance'])\n",
        "plt.yticks(range(len(top_20_features)), top_20_features['feature'])\n",
        "plt.xlabel('Feature Importance')\n",
        "plt.title('Top 20 Most Important Features for Yearly Availability Prediction')\n",
        "plt.gca().invert_yaxis()\n",
        "plt.tight_layout()\n",
        "plt.show()"
      ],
      "metadata": {
        "colab": {
          "base_uri": "https://localhost:8080/",
          "height": 876
        },
        "id": "xTHm4ICcA8zv",
        "outputId": "04d893cd-7172-411c-f928-5360726eaa0d"
      },
      "execution_count": null,
      "outputs": [
        {
          "output_type": "stream",
          "name": "stdout",
          "text": [
            "\n",
            "==================================================\n",
            "FEATURE IMPORTANCE VISUALIZATION\n",
            "==================================================\n"
          ]
        },
        {
          "output_type": "display_data",
          "data": {
            "text/plain": [
              "<Figure size 1200x800 with 1 Axes>"
            ],
            "image/png": "[encoded data removed]"
          },
          "metadata": {}
        }
      ]
    },
    {
      "cell_type": "code",
      "source": [
        "# ==============================================================================\n",
        "# 9. FINAL MODEL TRAINING AND PREDICTIONS\n",
        "# ==============================================================================\n",
        "\n",
        "print(\"\\n\" + \"=\"*50)\n",
        "print(\"FINAL MODEL TRAINING AND PREDICTIONS\")\n",
        "print(\"=\"*50)\n",
        "\n",
        "# Train final model on full training data\n",
        "print(\"Training final model on complete training dataset...\")\n",
        "\n",
        "if best_model_name == 'Logistic Regression':\n",
        "    final_scaler = StandardScaler()\n",
        "    X_scaled = final_scaler.fit_transform(X)\n",
        "    final_model = LogisticRegression(random_state=42, max_iter=1000)\n",
        "    final_model.fit(X_scaled, y)\n",
        "else:\n",
        "    final_model = RandomForestClassifier(n_estimators=100, random_state=42, max_depth=10) if best_model_name == 'Random Forest' else GradientBoostingClassifier(n_estimators=100, random_state=42, max_depth=6)\n",
        "    final_model.fit(X, y)\n",
        "    final_scaler = None\n",
        "\n",
        "# Prepare test data\n",
        "X_test = test_eng[feature_cols]\n",
        "\n",
        "# Make predictions\n",
        "if final_scaler:\n",
        "    X_test_scaled = final_scaler.transform(X_test)\n",
        "    test_predictions = final_model.predict(X_test_scaled)\n",
        "else:\n",
        "    test_predictions = final_model.predict(X_test)\n",
        "\n",
        "print(f\"Generated {len(test_predictions)} predictions\")\n",
        "print(f\"Prediction distribution: {np.bincount(test_predictions)}\")"
      ],
      "metadata": {
        "colab": {
          "base_uri": "https://localhost:8080/"
        },
        "id": "b0nf7OJ6BAEl",
        "outputId": "c121f7de-7c34-469c-af38-d05c7da12c86"
      },
      "execution_count": null,
      "outputs": [
        {
          "output_type": "stream",
          "name": "stdout",
          "text": [
            "\n",
            "==================================================\n",
            "FINAL MODEL TRAINING AND PREDICTIONS\n",
            "==================================================\n",
            "Training final model on complete training dataset...\n",
            "Generated 545 predictions\n",
            "Prediction distribution: [306 239]\n"
          ]
        }
      ]
    },
    {
      "cell_type": "code",
      "source": [
        "# ==============================================================================\n",
        "# 10. CREATE SUBMISSION FILE\n",
        "# ==============================================================================\n",
        "\n",
        "print(\"\\n\" + \"=\"*50)\n",
        "print(\"CREATING SUBMISSION FILE\")\n",
        "print(\"=\"*50)\n",
        "\n",
        "# Create submission dataframe\n",
        "submission = pd.DataFrame({\n",
        "    'id': test_eng.index if 'id' not in test_eng.columns else test_eng['id'],\n",
        "    'yearly_availability': test_predictions\n",
        "})\n",
        "\n",
        "# Save submission file\n",
        "submission.to_csv('submissions.csv', index=False)\n",
        "print(\"Submission file 'submissions.csv' created successfully!\")\n",
        "print(f\"Submission shape: {submission.shape}\")\n",
        "print(\"\\nFirst few predictions:\")\n",
        "print(submission.head(10))"
      ],
      "metadata": {
        "colab": {
          "base_uri": "https://localhost:8080/"
        },
        "id": "ha3LvcjwBDfb",
        "outputId": "5d0e5fab-dbc2-43d6-a8d3-a4c110e6d805"
      },
      "execution_count": null,
      "outputs": [
        {
          "output_type": "stream",
          "name": "stdout",
          "text": [
            "\n",
            "==================================================\n",
            "CREATING SUBMISSION FILE\n",
            "==================================================\n",
            "Submission file 'submissions.csv' created successfully!\n",
            "Submission shape: (545, 2)\n",
            "\n",
            "First few predictions:\n",
            "       id  yearly_availability\n",
            "0   19215                    0\n",
            "1   36301                    0\n",
            "3   33694                    0\n",
            "4   28873                    0\n",
            "5   36894                    1\n",
            "6   31744                    0\n",
            "7   27707                    1\n",
            "8   23106                    0\n",
            "10  35030                    0\n",
            "12  15214                    1\n"
          ]
        }
      ]
    },
    {
      "cell_type": "code",
      "source": [
        "# ==============================================================================\n",
        "# 11. SUMMARY AND KEY INSIGHTS\n",
        "# ==============================================================================\n",
        "\n",
        "print(\"\\n\" + \"=\"*50)\n",
        "print(\"SUMMARY AND KEY INSIGHTS FOR MANAGEMENT\")\n",
        "print(\"=\"*50)\n",
        "\n",
        "print(f\"\"\"\n",
        "KEY FINDINGS:\n",
        "=============\n",
        "\n",
        "1. MODEL PERFORMANCE:\n",
        "   - Best performing model: {best_model_name}\n",
        "   - Accuracy achieved: {model_results[best_model_name]:.2%}\n",
        "   - Model successfully predicts hotel yearly availability\n",
        "\n",
        "2. TOP 5 MOST IMPORTANT FACTORS:\n",
        "\"\"\")\n",
        "\n",
        "for i, (feature, importance) in enumerate(importance_df.head(5).values, 1):\n",
        "    print(f\"   {i}. {feature}: {importance:.4f}\")\n",
        "\n",
        "print(f\"\"\"\n",
        "\n",
        "3. BUSINESS RECOMMENDATIONS:\n",
        "   - Focus funding on hotels with high review density and consistent monthly reviews\n",
        "   - Geographic location plays a significant role in yearly availability\n",
        "   - Premium properties (high cost + high reviews) tend to have better availability\n",
        "   - Accommodation type affects availability patterns\n",
        "   - Hotels with moderate minimum night requirements perform better\n",
        "\n",
        "4. DATA QUALITY:\n",
        "   - Fixed region naming inconsistencies\n",
        "   - Standardized accommodation type categories\n",
        "   - Created {len(new_features)} new predictive features\n",
        "\n",
        "5. NEXT STEPS:\n",
        "   - Monitor model performance on new data\n",
        "   - Consider seasonal factors in future models\n",
        "   - Implement real-time availability tracking\n",
        "\"\"\")\n",
        "\n",
        "print(\"Analysis completed successfully!\")\n",
        "print(\"Files generated: submissions.csv\")\n",
        "print(\"=\"*50)"
      ],
      "metadata": {
        "colab": {
          "base_uri": "https://localhost:8080/"
        },
        "id": "kxkU9YAaBGu-",
        "outputId": "2fae94f8-fff3-41e9-90b5-d5c1729901fa"
      },
      "execution_count": null,
      "outputs": [
        {
          "output_type": "stream",
          "name": "stdout",
          "text": [
            "\n",
            "==================================================\n",
            "SUMMARY AND KEY INSIGHTS FOR MANAGEMENT\n",
            "==================================================\n",
            "\n",
            "KEY FINDINGS:\n",
            "=============\n",
            "\n",
            "1. MODEL PERFORMANCE:\n",
            "   - Best performing model: Random Forest\n",
            "   - Accuracy achieved: 91.34%\n",
            "   - Model successfully predicts hotel yearly availability\n",
            "\n",
            "2. TOP 5 MOST IMPORTANT FACTORS:\n",
            "\n",
            "   1. accommodation_encoded: 0.3957\n",
            "   2. owned_hotels: 0.1362\n",
            "   3. monthly_review_intensity: 0.0596\n",
            "   4. reviews_per_month: 0.0595\n",
            "   5. minimum_nights: 0.0489\n",
            "\n",
            "\n",
            "3. BUSINESS RECOMMENDATIONS:\n",
            "   - Focus funding on hotels with high review density and consistent monthly reviews\n",
            "   - Geographic location plays a significant role in yearly availability\n",
            "   - Premium properties (high cost + high reviews) tend to have better availability\n",
            "   - Accommodation type affects availability patterns\n",
            "   - Hotels with moderate minimum night requirements perform better\n",
            "\n",
            "4. DATA QUALITY:\n",
            "   - Fixed region naming inconsistencies\n",
            "   - Standardized accommodation type categories\n",
            "   - Created 7 new predictive features\n",
            "\n",
            "5. NEXT STEPS:\n",
            "   - Monitor model performance on new data\n",
            "   - Consider seasonal factors in future models\n",
            "   - Implement real-time availability tracking\n",
            "\n",
            "Analysis completed successfully!\n",
            "Files generated: submissions.csv\n",
            "==================================================\n"
          ]
        }
      ]
    }
  ]
}